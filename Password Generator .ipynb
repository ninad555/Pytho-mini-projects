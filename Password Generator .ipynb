{
 "cells": [
  {
   "cell_type": "code",
   "execution_count": 29,
   "metadata": {},
   "outputs": [
    {
     "name": "stdout",
     "output_type": "stream",
     "text": [
      "Max length of Password12\n",
      "8Kn$$d2(N%A5\n"
     ]
    }
   ],
   "source": [
    "import random \n",
    "import array \n",
    "\n",
    "# input the maximum length of password needed \n",
    "MAX_LEN = int(input(\"Max length of Password\"))\n",
    "\n",
    "# declare arrays of the character that we need in out password \n",
    "# Represented as chars to enable easy string concatenation \n",
    "DIGITS = ['0', '1', '2', '3', '4', '5', '6', '7', '8', '9'] \n",
    "LOCASE_CHARACTERS = ['a', 'b', 'c', 'd', 'e', 'f', 'g', 'h', \n",
    "                    'i', 'j', 'k', 'm', 'n', 'o', 'p', 'q', \n",
    "                    'r', 's', 't', 'u', 'v', 'w', 'x', 'y', \n",
    "                    'z'] \n",
    "\n",
    "UPCASE_CHARACTERS = ['A', 'B', 'C', 'D', 'E', 'F', 'G', 'H', \n",
    "                    'I', 'J', 'K', 'M', 'N', 'O', 'p', 'Q', \n",
    "                    'R', 'S', 'T', 'U', 'V', 'W', 'X', 'Y', \n",
    "                    'Z'] \n",
    "\n",
    "SYMBOLS =['@', '#', '$', '%', '=', ':', '?', '.', '/', '|', '~', '>', \n",
    "            '*', '(', ')','<&# 039'] \n",
    "\n",
    "# combines all the character arrays above to form one array \n",
    "COMBINED_LIST = DIGITS + UPCASE_CHARACTERS + LOCASE_CHARACTERS + SYMBOLS \n",
    "\n",
    "# randomly select at least one character from each character set above \n",
    "rand_digit = random.choice(DIGITS) \n",
    "rand_upper = random.choice(UPCASE_CHARACTERS) \n",
    "rand_lower = random.choice(LOCASE_CHARACTERS) \n",
    "rand_symbol = random.choice(SYMBOLS) \n",
    "\n",
    "# combine the character randomly selected above \n",
    "# at this stage, the password contains only 4 characters \n",
    "temp_pass = rand_digit + rand_upper + rand_lower + rand_symbol \n",
    "\n",
    "\n",
    "# now that we are sure we have at least one character from each \n",
    "# set of characters, we fill the rest of \n",
    "# the password length by selecting randomly from the combined \n",
    "# list of character above. \n",
    "for x in range(MAX_LEN-4): \n",
    "\ttemp_pass = temp_pass + random.choice(COMBINED_LIST) \n",
    "\n",
    "# traverse the temporary password array and append the chars \n",
    "# to form the password \n",
    "password =\"\"\n",
    "for x in temp_pass: \n",
    "\t  password = password + x\n",
    "\t\t\n",
    "# print out password \n",
    "print(password) \n"
   ]
  },
  {
   "cell_type": "code",
   "execution_count": null,
   "metadata": {},
   "outputs": [],
   "source": []
  }
 ],
 "metadata": {
  "kernelspec": {
   "display_name": "Python 3",
   "language": "python",
   "name": "python3"
  },
  "language_info": {
   "codemirror_mode": {
    "name": "ipython",
    "version": 3
   },
   "file_extension": ".py",
   "mimetype": "text/x-python",
   "name": "python",
   "nbconvert_exporter": "python",
   "pygments_lexer": "ipython3",
   "version": "3.7.4"
  }
 },
 "nbformat": 4,
 "nbformat_minor": 2
}
