{
 "cells": [
  {
   "cell_type": "code",
   "execution_count": 1,
   "metadata": {},
   "outputs": [],
   "source": [
    "# Calculates the present value \n",
    "def PV():\n",
    "    R = int(input(\"ENTER PRINCIPAL AMOUNT = \"))\n",
    "    n = int(input(\"ENTER NO. OF YEARS = \"))\n",
    "    i = float(input(\"INTEREST RATE = \"))\n",
    "    present_value = float (R*(1+i/100)**(-n) )\n",
    "    print(  \"Present value of Rs.\" + str (R)+\n",
    "            \" payable at the end of \" + str(n) +\n",
    "            \" years @\"  + str(i) + \n",
    "             \" % p.a is = \" , present_value)\n",
    "    \n",
    "#calculates the Aacumulated value     \n",
    "def AV():\n",
    "    R = int(input(\"ENTER PRINCIPAL AMOUNT = \"))\n",
    "    \n",
    "    n = int(input(\"ENTER NO. OF YEARS = \"))\n",
    "    i = float(input(\"INTEREST RATE = \"))\n",
    "    aacumulated_value = float (R*(1+i/100)**(n) )\n",
    "    print( \"Accumulated  value of  \" + str (R) + \n",
    "           \" payable for \" + str(n) +  \n",
    "           \" year @\"  + str(i) +   \n",
    "            \" % p.a is = \" , aacumulated_value)\n",
    "\n",
    "#Calculates the Effective rate of interest\n",
    "def eff_int():\n",
    "    i = float(input(\"interest = \"))\n",
    "    m = int(input(\"compounded/convertable = \"))\n",
    "    effective_interest = ((1 + i*0.01/m)**m - 1 )\n",
    "    print(\"Effective rate of interest is = \",effective_interest)\n",
    "    print(\"Effective rate of interest is\" , effective_interest *100,\"%\")\n",
    "    \n",
    "# Calculates Nominal Rate of interest\n",
    "def nom_int():\n",
    "    i = float(input(\"interest = \"))\n",
    "    m = int(input(\"compounded/convertable = \"))\n",
    "    nominal_interest = m*((1+ i*0.01)**(1/m)-1)\n",
    "    print(\"Nominal rate of interest is = \",nominal_interest)\n",
    "    print(\"Nominal rate of interest is\" , nominal_interest *100,\"%\")"
   ]
  },
  {
   "cell_type": "code",
   "execution_count": 2,
   "metadata": {},
   "outputs": [
    {
     "name": "stdout",
     "output_type": "stream",
     "text": [
      "ENTER PRINCIPAL AMOUNT = 5000\n",
      "ENTER NO. OF YEARS = 6\n",
      "INTEREST RATE = 7\n",
      "Present value of Rs.5000 payable at the end of 6 years @7.0 % p.a is =  3331.7111190825617\n"
     ]
    }
   ],
   "source": [
    "PV()"
   ]
  },
  {
   "cell_type": "code",
   "execution_count": 3,
   "metadata": {},
   "outputs": [
    {
     "name": "stdout",
     "output_type": "stream",
     "text": [
      "ENTER PRINCIPAL AMOUNT = 1\n",
      "ENTER NO. OF YEARS = 1\n",
      "INTEREST RATE = 8\n",
      "Accumulated  value of  1 payable for 1 year @8.0 % p.a is =  1.08\n"
     ]
    }
   ],
   "source": [
    "AV()"
   ]
  },
  {
   "cell_type": "code",
   "execution_count": 4,
   "metadata": {},
   "outputs": [
    {
     "name": "stdout",
     "output_type": "stream",
     "text": [
      "interest = 21\n",
      "compounded/convertable = 2\n",
      "Nominal rate of interest is =  0.20000000000000018\n",
      "Nominal rate of interest is 20.000000000000018 %\n"
     ]
    }
   ],
   "source": [
    "nom_int()"
   ]
  },
  {
   "cell_type": "code",
   "execution_count": null,
   "metadata": {},
   "outputs": [],
   "source": []
  }
 ],
 "metadata": {
  "kernelspec": {
   "display_name": "Python 3",
   "language": "python",
   "name": "python3"
  },
  "language_info": {
   "codemirror_mode": {
    "name": "ipython",
    "version": 3
   },
   "file_extension": ".py",
   "mimetype": "text/x-python",
   "name": "python",
   "nbconvert_exporter": "python",
   "pygments_lexer": "ipython3",
   "version": "3.7.4"
  }
 },
 "nbformat": 4,
 "nbformat_minor": 2
}
